{
 "cells": [
  {
   "cell_type": "code",
   "execution_count": 2,
   "id": "initial_id",
   "metadata": {
    "ExecuteTime": {
     "end_time": "2024-05-30T13:24:41.176415Z",
     "start_time": "2024-05-30T13:24:39.699527Z"
    }
   },
   "outputs": [],
   "source": [
    "import numpy as np\n",
    "import matplotlib.pyplot as plt\n",
    "from scipy.ndimage import uniform_filter1d\n",
    "from scipy.stats import sem\n",
    "from scipy import stats\n",
    "\n",
    "from scipy.optimize import curve_fit\n",
    "\n",
    "plt.style.use('classic')\n",
    "\n",
    "import analyse"
   ]
  },
  {
   "cell_type": "markdown",
   "id": "49d81bc0eaaadd5d",
   "metadata": {},
   "source": [
    "# Load data from Lennard-Jones simulation"
   ]
  },
  {
   "cell_type": "code",
   "execution_count": 3,
   "id": "b46af358c5cfa005",
   "metadata": {
    "ExecuteTime": {
     "end_time": "2024-05-30T13:24:41.189021Z",
     "start_time": "2024-05-30T13:24:41.180214Z"
    }
   },
   "outputs": [
    {
     "name": "stdout",
     "output_type": "stream",
     "text": [
      "Number density: 0.844 LJ units\n"
     ]
    }
   ],
   "source": [
    "L = 16.795961913825074  # box length in Lenard-Jones units\n",
    "N = 4000  # number of particles\n",
    "rho = N / L**3  # number density in Lenard-Jones units\n",
    "print(f'Number density: {rho:.3f} LJ units')"
   ]
  },
  {
   "cell_type": "code",
   "execution_count": 4,
   "id": "d0201592914d1314",
   "metadata": {
    "ExecuteTime": {
     "end_time": "2024-05-30T13:24:41.212251Z",
     "start_time": "2024-05-30T13:24:41.198896Z"
    }
   },
   "outputs": [
    {
     "name": "stdout",
     "output_type": "stream",
     "text": [
      "\n",
      "Sigma of Argon: 3.4e-10 m\n",
      "Mass of Argon: 6.633e-26 kg\n",
      "Epsilon of Argon: 1.656e-21 J\n",
      "LJ time unit in SI units: 2.152e-12 s or 2.152 ps\n",
      "Timestep in SI units: 1.076e-14 s or 0.01076 ps or 10.76 fs\n",
      "\n",
      "\n"
     ]
    }
   ],
   "source": [
    "boltzmann = 1.38064852e-23\n",
    "sigma_nm = 0.34         # in nm\n",
    "sigma = sigma_nm * 1e-9 # in m\n",
    "liter = 1e3             # L's in a m^3\n",
    "avogadro = 6.022e23     # Avogadro's number, atoms/mole\n",
    "epsilon_kJ_mol = 0.997  # in kJ/mol\n",
    "kJ_J = 1e3              # J in a kJ\n",
    "\n",
    "m = 39.948  # mass of argon in atomic mass units\n",
    "amu = 1.6605e-27  # atomic mass unit in kg\n",
    "M = m*amu  # mass of argon in kg\n",
    "\n",
    "dt = 0.005  # time step in Lennard-Jones units\n",
    "\n",
    "epsilon = epsilon_kJ_mol * kJ_J/avogadro  # in J\n",
    "dt_SI = np.sqrt(M * sigma**2 / epsilon)  # LJ time to seconds\n",
    "print(f'''\n",
    "Sigma of Argon: {sigma:.4} m\n",
    "Mass of Argon: {M:.4} kg\n",
    "Epsilon of Argon: {epsilon:.4} J\n",
    "LJ time unit in SI units: {dt_SI:.4} s or {dt_SI*1e12:.4} ps\n",
    "Timestep in SI units: {dt_SI*dt:.4} s or {dt_SI*dt*1e12:.4} ps or {dt_SI*dt*1e12*1e3:.4} fs\n",
    "\n",
    "''')"
   ]
  },
  {
   "cell_type": "code",
   "execution_count": 5,
   "id": "e84909d641362868",
   "metadata": {
    "ExecuteTime": {
     "end_time": "2024-05-30T13:24:50.551373Z",
     "start_time": "2024-05-30T13:24:41.219944Z"
    }
   },
   "outputs": [
    {
     "name": "stderr",
     "output_type": "stream",
     "text": [
      "/Users/jaehyeok/opt/anaconda3/lib/python3.9/site-packages/pandas/core/computation/expressions.py:21: UserWarning: Pandas requires version '2.8.4' or newer of 'numexpr' (version '2.8.1' currently installed).\n",
      "  from pandas.core.computation.check import NUMEXPR_INSTALLED\n",
      "/Users/jaehyeok/opt/anaconda3/lib/python3.9/site-packages/pandas/core/arrays/masked.py:60: UserWarning: Pandas requires version '1.3.6' or newer of 'bottleneck' (version '1.3.4' currently installed).\n",
      "  from pandas.core import (\n"
     ]
    },
    {
     "data": {
      "text/html": [
       "<div>\n",
       "<style scoped>\n",
       "    .dataframe tbody tr th:only-of-type {\n",
       "        vertical-align: middle;\n",
       "    }\n",
       "\n",
       "    .dataframe tbody tr th {\n",
       "        vertical-align: top;\n",
       "    }\n",
       "\n",
       "    .dataframe thead th {\n",
       "        text-align: right;\n",
       "    }\n",
       "</style>\n",
       "<table border=\"1\" class=\"dataframe\">\n",
       "  <thead>\n",
       "    <tr style=\"text-align: right;\">\n",
       "      <th></th>\n",
       "      <th>Time</th>\n",
       "      <th>Step</th>\n",
       "      <th>Temp</th>\n",
       "      <th>Press</th>\n",
       "      <th>PotEng</th>\n",
       "      <th>KinEng</th>\n",
       "      <th>c_virial</th>\n",
       "    </tr>\n",
       "  </thead>\n",
       "  <tbody>\n",
       "    <tr>\n",
       "      <th>0</th>\n",
       "      <td>0.000</td>\n",
       "      <td>0.0</td>\n",
       "      <td>0.648514</td>\n",
       "      <td>0.469606</td>\n",
       "      <td>-5.267921</td>\n",
       "      <td>0.972528</td>\n",
       "      <td>-0.077733</td>\n",
       "    </tr>\n",
       "    <tr>\n",
       "      <th>1</th>\n",
       "      <td>0.005</td>\n",
       "      <td>1.0</td>\n",
       "      <td>0.647146</td>\n",
       "      <td>0.472595</td>\n",
       "      <td>-5.266880</td>\n",
       "      <td>0.970476</td>\n",
       "      <td>-0.073589</td>\n",
       "    </tr>\n",
       "    <tr>\n",
       "      <th>2</th>\n",
       "      <td>0.010</td>\n",
       "      <td>2.0</td>\n",
       "      <td>0.647090</td>\n",
       "      <td>0.477217</td>\n",
       "      <td>-5.265713</td>\n",
       "      <td>0.970393</td>\n",
       "      <td>-0.068920</td>\n",
       "    </tr>\n",
       "    <tr>\n",
       "      <th>3</th>\n",
       "      <td>0.015</td>\n",
       "      <td>3.0</td>\n",
       "      <td>0.647612</td>\n",
       "      <td>0.481899</td>\n",
       "      <td>-5.264763</td>\n",
       "      <td>0.971175</td>\n",
       "      <td>-0.064678</td>\n",
       "    </tr>\n",
       "    <tr>\n",
       "      <th>4</th>\n",
       "      <td>0.020</td>\n",
       "      <td>4.0</td>\n",
       "      <td>0.648336</td>\n",
       "      <td>0.485424</td>\n",
       "      <td>-5.264119</td>\n",
       "      <td>0.972260</td>\n",
       "      <td>-0.061764</td>\n",
       "    </tr>\n",
       "  </tbody>\n",
       "</table>\n",
       "</div>"
      ],
      "text/plain": [
       "    Time  Step      Temp     Press    PotEng    KinEng  c_virial\n",
       "0  0.000   0.0  0.648514  0.469606 -5.267921  0.972528 -0.077733\n",
       "1  0.005   1.0  0.647146  0.472595 -5.266880  0.970476 -0.073589\n",
       "2  0.010   2.0  0.647090  0.477217 -5.265713  0.970393 -0.068920\n",
       "3  0.015   3.0  0.647612  0.481899 -5.264763  0.971175 -0.064678\n",
       "4  0.020   4.0  0.648336  0.485424 -5.264119  0.972260 -0.061764"
      ]
     },
     "execution_count": 5,
     "metadata": {},
     "output_type": "execute_result"
    }
   ],
   "source": [
    "df = analyse.thermo_data_as_dataframe(\n",
    "    filename='../../log-file/lennard-jones/log.lammps',\n",
    "    time_step=dt\n",
    ")\n",
    "\n",
    "df.head()"
   ]
  },
  {
   "cell_type": "code",
   "execution_count": 6,
   "id": "59df0778ac877de6",
   "metadata": {
    "ExecuteTime": {
     "end_time": "2024-05-30T13:24:50.580745Z",
     "start_time": "2024-05-30T13:24:50.568405Z"
    }
   },
   "outputs": [
    {
     "name": "stdout",
     "output_type": "stream",
     "text": [
      "Number of steps: 1000001\n",
      "Total time: 5000.0 in LJ units\n",
      "Total time: 10.76 ns\n",
      "\n"
     ]
    }
   ],
   "source": [
    "print(f'''Number of steps: {len(df)}\n",
    "Total time: {df['Time'].max()} in LJ units\n",
    "Total time: {df['Time'].max()*dt_SI*1e9:.2f} ns\n",
    "''')"
   ]
  },
  {
   "cell_type": "code",
   "execution_count": 7,
   "id": "36294bc4440f1e67",
   "metadata": {
    "ExecuteTime": {
     "end_time": "2024-05-30T13:24:50.640528Z",
     "start_time": "2024-05-30T13:24:50.610555Z"
    }
   },
   "outputs": [
    {
     "name": "stdout",
     "output_type": "stream",
     "text": [
      "Temperature: 0.666 LJ units\n"
     ]
    }
   ],
   "source": [
    "T = df['Temp'].mean()  # in Lennard-Jones units\n",
    "print(f'Temperature: {T:.3f} LJ units')"
   ]
  },
  {
   "cell_type": "code",
   "execution_count": 8,
   "id": "e5014338f1841002",
   "metadata": {
    "ExecuteTime": {
     "end_time": "2024-05-30T13:24:50.671815Z",
     "start_time": "2024-05-30T13:24:50.645785Z"
    }
   },
   "outputs": [
    {
     "name": "stdout",
     "output_type": "stream",
     "text": [
      "Temperature in Kelvin: 79.88 K\n"
     ]
    }
   ],
   "source": [
    "# In kelvin\n",
    "T_kelvin = T * epsilon_kJ_mol / boltzmann / avogadro * 1e3\n",
    "print(f'Temperature in Kelvin: {T_kelvin:.2f} K')"
   ]
  },
  {
   "cell_type": "code",
   "execution_count": 9,
   "id": "b8a2f15bab6a26a6",
   "metadata": {
    "ExecuteTime": {
     "end_time": "2024-05-30T13:24:50.683306Z",
     "start_time": "2024-05-30T13:24:50.674006Z"
    }
   },
   "outputs": [
    {
     "name": "stdout",
     "output_type": "stream",
     "text": [
      "Density in mol/L: 35.67 mol/L\n"
     ]
    }
   ],
   "source": [
    "# Density in mol/L converted from Lennard-Jones units\n",
    "density_mol_L = rho / sigma**3 / avogadro / liter\n",
    "print(f'Density in mol/L: {density_mol_L:.2f} mol/L')"
   ]
  },
  {
   "cell_type": "code",
   "execution_count": 10,
   "id": "88093ca48a9ef3d6",
   "metadata": {
    "ExecuteTime": {
     "end_time": "2024-05-30T13:24:50.699672Z",
     "start_time": "2024-05-30T13:24:50.687115Z"
    }
   },
   "outputs": [],
   "source": [
    "U = df['PotEng']  # Potential energy\n",
    "W = df['c_virial']  # Virial"
   ]
  },
  {
   "cell_type": "code",
   "execution_count": 11,
   "id": "ddc216934bf99441",
   "metadata": {
    "ExecuteTime": {
     "end_time": "2024-05-30T13:24:50.757096Z",
     "start_time": "2024-05-30T13:24:50.717022Z"
    }
   },
   "outputs": [
    {
     "name": "stdout",
     "output_type": "stream",
     "text": [
      "Pearson correlation coefficient: 0.953\n"
     ]
    }
   ],
   "source": [
    "# Pearson correlation coefficient\n",
    "corr = np.corrcoef(U, W)[0,1]\n",
    "print(f'Pearson correlation coefficient: {corr:.3f}')"
   ]
  },
  {
   "cell_type": "code",
   "execution_count": 12,
   "id": "7d3972b3db0338",
   "metadata": {
    "ExecuteTime": {
     "end_time": "2024-05-30T13:24:50.826204Z",
     "start_time": "2024-05-30T13:24:50.759676Z"
    }
   },
   "outputs": [
    {
     "name": "stdout",
     "output_type": "stream",
     "text": [
      "Pearson correlation coefficient: 0.953(0)\n"
     ]
    },
    {
     "data": {
      "text/plain": [
       "(0.9534343249942613, 0.00030704469636485036, 0.00032140417113932424)"
      ]
     },
     "execution_count": 12,
     "metadata": {},
     "output_type": "execute_result"
    }
   ],
   "source": [
    "def get_corr(W, U, blocks=8, block=0):\n",
    "    block_size = len(W) // blocks\n",
    "    start = block * block_size\n",
    "    end = (block + 1) * block_size\n",
    "    W_block = W[start:end]\n",
    "    U_block = U[start:end]\n",
    "    return np.corrcoef(U_block, W_block)[0,1]\n",
    "corr = get_corr(W, U, blocks=1)\n",
    "corr_blocks = [get_corr(W, U, blocks=8, block=block) for block in range(8)]\n",
    "sem_corr = sem(corr_blocks)\n",
    "# 67% confidence interval\n",
    "error_67 = sem_corr * stats.t.ppf((1 + 0.67) / 2, len(corr_blocks) - 1)\n",
    "print(f'Pearson correlation coefficient: {corr:.3f}({sem_corr*1e3:.0f})')\n",
    "corr, sem_corr, error_67"
   ]
  },
  {
   "cell_type": "code",
   "execution_count": 13,
   "id": "616c8e7bf8700e85",
   "metadata": {
    "ExecuteTime": {
     "end_time": "2024-05-30T13:24:50.892274Z",
     "start_time": "2024-05-30T13:24:50.829243Z"
    }
   },
   "outputs": [
    {
     "name": "stdout",
     "output_type": "stream",
     "text": [
      "Gamma: 4.92(1)\n"
     ]
    },
    {
     "data": {
      "text/plain": [
       "(4.921598138388115, 0.013235238107771817)"
      ]
     },
     "execution_count": 13,
     "metadata": {},
     "output_type": "execute_result"
    }
   ],
   "source": [
    "def get_gamma(W, U, blocks=8, block=0):\n",
    "    block_size = len(W) // blocks\n",
    "    start = block * block_size\n",
    "    end = (block + 1) * block_size\n",
    "    W_block = W[start:end]\n",
    "    U_block = U[start:end]\n",
    "    return np.cov(U_block, W_block)[0,1] / np.var(U_block)\n",
    "gamma = get_gamma(W, U, blocks=1)\n",
    "gamma_blocks = [get_gamma(W, U, blocks=8, block=block) for block in range(8)]\n",
    "sem_gamma = sem(gamma_blocks)\n",
    "print(f'Gamma: {gamma:.2f}({sem_gamma*1e2:.0f})')\n",
    "gamma, sem_gamma"
   ]
  },
  {
   "cell_type": "code",
   "execution_count": 14,
   "id": "a3d853809c4cf87d",
   "metadata": {
    "ExecuteTime": {
     "end_time": "2024-05-30T13:24:50.957302Z",
     "start_time": "2024-05-30T13:24:50.896492Z"
    }
   },
   "outputs": [
    {
     "name": "stdout",
     "output_type": "stream",
     "text": [
      "Symmetric gamma: 5.16\n"
     ]
    }
   ],
   "source": [
    "# Symmetic gamma\n",
    "slope = np.sqrt(np.var(W)/np.var(U))\n",
    "print(f'Symmetric gamma: {slope:.2f}')"
   ]
  },
  {
   "cell_type": "code",
   "execution_count": 41,
   "id": "633e35d391b3599e",
   "metadata": {
    "ExecuteTime": {
     "end_time": "2024-05-30T13:24:54.141398Z",
     "start_time": "2024-05-30T13:24:50.962983Z"
    }
   },
   "outputs": [
    {
     "data": {
      "image/png": "[encoded data removed]",
      "text/plain": [
       "<Figure size 576x360 with 2 Axes>"
      ]
     },
     "metadata": {
      "needs_background": "light"
     },
     "output_type": "display_data"
    },
    {
     "data": {
      "text/plain": [
       "(1000001, 201)"
      ]
     },
     "execution_count": 41,
     "metadata": {},
     "output_type": "execute_result"
    }
   ],
   "source": [
    "plt.figure(figsize=(8, 5))\n",
    "plt.rcParams.update({\n",
    "    'font.family': 'DejaVu Sans',   # Default font\n",
    "    #'font.family': 'Whitney Book', # Actual font used in the paper (needs to install font first)\n",
    "    'axes.unicode_minus': False\n",
    "})\n",
    "plt.xticks(fontsize=16)\n",
    "plt.yticks(fontsize=16)\n",
    "plt.scatter(\n",
    "    U[::5000]*epsilon_kJ_mol,\n",
    "    W[::5000]*epsilon_kJ_mol,\n",
    "    c=df['Time'][::5000]*dt_SI*1e9,  # in ns\n",
    "    cmap='rainbow', \n",
    "    alpha=0.5)\n",
    "x_fit = np.linspace(U.min(), U.max(), 10)\n",
    "intercept = np.mean(W) - gamma * np.mean(U)\n",
    "plt.plot(\n",
    "    x_fit*epsilon_kJ_mol, \n",
    "    gamma * x_fit*epsilon_kJ_mol + intercept*epsilon_kJ_mol, \n",
    "    'r--', label=r'Slope: $\\gamma=$' f'{gamma:.3f}({sem_gamma*1e3:.0f})')\n",
    "# Add text to the plot using relative coordinates\n",
    "plt.text(0.65, 0.4, r'$R=$' f'{corr:.4f}({sem_corr*1e4:.0f})', transform=plt.gca().transAxes, fontsize=16)\n",
    "# Aling text to center\n",
    "# plt.text(0.5, 0.05, r'Single component Lennard-Jones', transform=plt.gca().transAxes, fontsize=14, ha='center')\n",
    "plt.xlabel(r'Potential energy, $U$ (kJ/mol)',fontsize=20)\n",
    "plt.ylabel('Virial, $W$ (kJ/mol)',fontsize=20)\n",
    "plt.xlim(-5.28, -5.20)\n",
    "plt.ylim(-0.22, 0.22)\n",
    "plt.colorbar(label=r'Time, $t$ (ns)')\n",
    "plt.legend(fontsize=16, loc='upper left', frameon=False)\n",
    "plt.savefig('lennard_jones_WU_scatter.pdf')\n",
    "plt.show()\n",
    "\n",
    "len(U), len(U[::5000])"
   ]
  },
  {
   "cell_type": "code",
   "execution_count": 40,
   "id": "f5c27bcd7a1e10c5",
   "metadata": {
    "ExecuteTime": {
     "end_time": "2024-05-30T13:35:09.465617Z",
     "start_time": "2024-05-30T13:35:06.840018Z"
    }
   },
   "outputs": [
    {
     "name": "stdout",
     "output_type": "stream",
     "text": [
      "Fit parameters: A=0.483, t1=0.083, t2=2.295\n",
      "A = 0.483 +- 0.013\n",
      "t1 = 0.0831 +- 0.0010\n",
      "t2 = 2.32 +- 0.07\n"
     ]
    },
    {
     "data": {
      "image/png": "[encoded data removed]",
      "text/plain": [
       "<Figure size 576x360 with 1 Axes>"
      ]
     },
     "metadata": {
      "needs_background": "light"
     },
     "output_type": "display_data"
    }
   ],
   "source": [
    "# Compute time-correlation function with error estimates using analyse.time_correlation()\n",
    "def time_correlation_function_one_block(U, W, blocks=8, block=0):\n",
    "    block_size = len(W) // blocks\n",
    "    start = block * block_size\n",
    "    end = (block + 1) * block_size\n",
    "    W_block = W[start:end]\n",
    "    U_block = U[start:end]\n",
    "    return analyse.time_correlation(U_block, W_block)\n",
    "\n",
    "def time_correlation_function(U, W, blocks=8):\n",
    "    # time_correlation = time_correlation_function_one_block(U, W, blocks=blocks, block=0)\n",
    "    time_correlation_blocks = []\n",
    "    for block in range(blocks):\n",
    "        time_correlation_raw = time_correlation_function_one_block(U, W, blocks=blocks,block=block)\n",
    "        time_correlation = analyse.run_avg_log(time_correlation_raw)\n",
    "        time_correlation_blocks.append(time_correlation)\n",
    "    sem_time_correlation = sem(time_correlation_blocks, axis=0)\n",
    "    time_correlation = np.mean(time_correlation_blocks, axis=0)\n",
    "    return time_correlation, sem_time_correlation, time_correlation_blocks\n",
    "\n",
    "\n",
    "C_UU, C_UU_sem, C_UU_blocks = time_correlation_function(U, U, blocks=8)\n",
    "C_UW, C_UW_sem, _ = time_correlation_function(U, W, blocks=8)\n",
    "C_WW, C_WW_sem, _ = time_correlation_function(W, W, blocks=8)\n",
    "times = analyse.run_avg_log(df['Time'])[:len(C_UU)]*dt_SI*1e12\n",
    "\n",
    "A = 0.45\n",
    "\n",
    "def exp_initial(t, t0, beta):\n",
    "    return (1-A)*np.exp(-(t/t0)**beta)+A\n",
    "\n",
    "def exp_terminal(t, t0):\n",
    "    return A*np.exp(-(t/t0))\n",
    "\n",
    "def fit_func(t, A, t1, t2):\n",
    "    return (1-A)*np.exp(-(t/t1)**2) + A*np.exp(-t/t2)\n",
    "\n",
    "popt, _ = curve_fit(fit_func, times, C_UU/np.var(U), p0=[0.5, 0.01, 10])\n",
    "\n",
    "print(f'Fit parameters: A={popt[0]:.3f}, t1={popt[1]:.3f}, t2={popt[2]:.3f}')\n",
    "\n",
    "plt.figure(figsize=(8, 5))\n",
    "\n",
    "popts = []\n",
    "for C in C_UU_blocks:\n",
    "    # plt.plot(times, C/np.var(U), 'k-', lw=1, alpha=0.2)\n",
    "    this_popt, _ = curve_fit(fit_func, times, C/np.var(U), p0=popt)\n",
    "    # plt.plot(times, fit_func(times, *this_popt), 'r--', lw=1, alpha=0.2)\n",
    "    popts.append(this_popt)\n",
    "# SEM of the fit parameters\n",
    "popts = np.array(popts)\n",
    "sem_popts = sem(popts, axis=0)\n",
    "print(f'A = {popts[:,0].mean():.3f} +- {sem_popts[0]:.3f}')\n",
    "print(f't1 = {popts[:,1].mean():.4f} +- {sem_popts[1]:.4f}')\n",
    "print(f't2 = {popts[:,2].mean():.2f} +- {sem_popts[2]:.2f}')\n",
    "plt.rcParams.update({\n",
    "    'font.family': 'DejaVu Sans',   # Default font\n",
    "    #'font.family': 'Whitney Book', # Actual font used in the paper (needs to install font first)\n",
    "    'axes.unicode_minus': False\n",
    "})\n",
    "plt.errorbar(times, C_UU/np.var(U), C_UU_sem/np.var(U), fmt='x', label=r'$C_{UU}(t)$')\n",
    "plt.plot(times, fit_func(times, *popt), 'r--', lw=2, label=r'Fit: $(1-A)e^{-(t/t_1)^2} + Ae^{-t/t_2}$')\n",
    "plt.xscale('log')\n",
    "plt.xlim(0.01, 50)\n",
    "plt.ylim(-0.19, 1.199)\n",
    "plt.xlabel('Lag time, $t$ (ps)',fontsize=20)\n",
    "plt.ylabel(r'$C_{UU}(t)/\\sigma^2$',fontsize=20)\n",
    "#plt.text(0.5, 0.05, r'Single component Lennard-Jones', transform=plt.gca().transAxes, fontsize=14, ha='center')\n",
    "plt.xticks(fontname=\"DejaVu Sans\",fontsize=16)\n",
    "plt.yticks(fontname=\"DejaVu Sans\",fontsize=16)\n",
    "plt.plot([0.01, 50], [0, 0], 'k:')  # Dotted line at y=0\n",
    "# One point per data point\n",
    "plt.legend(frameon=False, fontsize=16, numpoints=1)\n",
    "plt.savefig('lennard_jones_CUU.pdf')\n",
    "plt.show()"
   ]
  },
  {
   "cell_type": "code",
   "execution_count": 21,
   "id": "bbcae206b612742",
   "metadata": {
    "ExecuteTime": {
     "end_time": "2024-05-30T13:24:59.534912Z",
     "start_time": "2024-05-30T13:24:57.358891Z"
    }
   },
   "outputs": [],
   "source": [
    "# Function that computes pearson correlation coefficient and gamma for a given boxcar width\n",
    "\n",
    "def compute_corr_gamma_block(U, W, boxcar_width, blocks=8, block=0):\n",
    "    block_size = len(W) // blocks\n",
    "    start = block * block_size\n",
    "    end = (block + 1) * block_size\n",
    "    W_block = W[start:end]\n",
    "    U_block = U[start:end]\n",
    "    U_boxcar = uniform_filter1d(U_block, size=boxcar_width)\n",
    "    W_boxcar = uniform_filter1d(W_block, size=boxcar_width)\n",
    "    U_boxcar = U_boxcar[boxcar_width:-boxcar_width]\n",
    "    W_boxcar = W_boxcar[boxcar_width:-boxcar_width]\n",
    "    corr = np.corrcoef(U_boxcar, W_boxcar)[0,1]\n",
    "    gamma = np.cov(U_boxcar, W_boxcar)[0,1] / np.var(U_boxcar)\n",
    "    return corr, gamma\n",
    "\n",
    "def compute_corr_gamma(U, W, boxcar_width, blocks=8):\n",
    "    #corr, gamma = compute_corr_gamma_block(U, W, boxcar_width, blocks=blocks, block=0)\n",
    "    corr_blocks = []\n",
    "    gamma_blocks = []\n",
    "    for block in range(blocks):\n",
    "        corr, gamma = compute_corr_gamma_block(U, W, boxcar_width, blocks=blocks, block=block)\n",
    "        corr_blocks.append(corr)\n",
    "        gamma_blocks.append(gamma)\n",
    "    corr = np.mean(corr_blocks)\n",
    "    gamma = np.mean(gamma_blocks)\n",
    "    sem_corr = sem(corr_blocks)\n",
    "    sem_gamma = sem(gamma_blocks)\n",
    "    return corr, gamma, sem_corr, sem_gamma\n",
    "\n",
    "taus = np.unique(np.logspace(0, 4, 32).astype(int))\n",
    "gammas = []\n",
    "corrs = []\n",
    "gamma_sems = []\n",
    "corr_sems = []\n",
    "for tau in taus:\n",
    "    corr, gamma, sem_corr, sem_gamma = compute_corr_gamma(U, W, tau, blocks=8)\n",
    "    gammas.append(gamma)\n",
    "    corrs.append(corr)\n",
    "    gamma_sems.append(sem_gamma)\n",
    "    corr_sems.append(sem_corr)\n",
    "\n",
    "# taus, gammas, corrs, gamma_sems, corr_sems"
   ]
  },
  {
   "cell_type": "code",
   "execution_count": 54,
   "id": "43cd47ff5edb1747",
   "metadata": {
    "ExecuteTime": {
     "end_time": "2024-05-30T13:25:01.174059Z",
     "start_time": "2024-05-30T13:24:59.537685Z"
    }
   },
   "outputs": [
    {
     "data": {
      "image/png": "[encoded data removed]",
      "text/plain": [
       "<Figure size 432x288 with 1 Axes>"
      ]
     },
     "metadata": {
      "needs_background": "light"
     },
     "output_type": "display_data"
    },
    {
     "data": {
      "text/plain": [
       "(2.2597373979783777, 4.971652904226792, 0.028726188593356405)"
      ]
     },
     "execution_count": 54,
     "metadata": {},
     "output_type": "execute_result"
    }
   ],
   "source": [
    "# Plot gamma as a function of boxcar width\n",
    "dt_step = df.Step[1] - df.Step[0]\n",
    "plt.figure()\n",
    "plt.errorbar(taus*dt_SI*1e12*dt, gammas, yerr=gamma_sems, fmt='o')\n",
    "gamma = get_gamma(W, U, blocks=1)\n",
    "sem_gamma = sem([get_gamma(W, U, blocks=8, block=block) for block in range(8)])\n",
    "plt.hlines(gamma, 0.01, 50, 'r', linestyles='--', label=r'$\\gamma(0)$=' f'{gamma:0.4}')\n",
    "plt.hlines(gamma+sem_gamma, 0.01, 50, 'r', linestyles=':', label=r'$\\gamma(0) \\pm$' f'{sem_gamma:0.2}')\n",
    "plt.hlines(gamma-sem_gamma, 0.01, 50, 'r', linestyles=':')\n",
    "\n",
    "# Add a horizontal line indicating 1% change of gamma i.e. 0.05\n",
    "plt.plot([0.3, 0.3], [4.921, 4.921*1.02], 'k-')\n",
    "plt.rcParams.update({\n",
    "    'font.family': 'DejaVu Sans',   # Default font\n",
    "    #'font.family': 'Whitney Book', # Actual font used in the paper (needs to install font first)\n",
    "    'axes.unicode_minus': False\n",
    "})\n",
    "plt.text(0.32, 4.924*1.009, '2%', fontsize=12, va='center')\n",
    "\n",
    "plt.xscale('log')\n",
    "plt.ylim(4.8, 5.1)\n",
    "plt.xlim(1e-2, 50)\n",
    "#plt.text(0.5, 0.05, r'Single component Lennard-Jones', transform=plt.gca().transAxes, fontsize=14, ha='center')\n",
    "plt.xlabel(r'Length of boxcar average, $\\tau$ (ps)',fontsize=20)\n",
    "plt.ylabel(r'$\\gamma_{\\bar U\\bar W}(\\tau)$',fontsize=20)\n",
    "plt.text(0.03, 0.93, '(b)', transform=plt.gca().transAxes, fontsize=18)\n",
    "plt.legend(frameon=False,fontsize=16)\n",
    "plt.xticks(fontname=\"DejaVu Sans\",fontsize=16)\n",
    "plt.yticks(fontname=\"DejaVu Sans\",fontsize=16)\n",
    "plt.savefig('lennard_jones_gamma.pdf', bbox_inches='tight')\n",
    "plt.show()\n",
    "\n",
    "tmp = taus*dt_SI*1e12*dt\n",
    "tmp[16], gammas[16], gamma_sems[16]"
   ]
  },
  {
   "cell_type": "code",
   "execution_count": 53,
   "id": "4345e58289e55434",
   "metadata": {
    "ExecuteTime": {
     "end_time": "2024-05-30T13:25:03.146147Z",
     "start_time": "2024-05-30T13:25:01.176086Z"
    }
   },
   "outputs": [
    {
     "data": {
      "image/png": "[encoded data removed]",
      "text/plain": [
       "<Figure size 432x288 with 1 Axes>"
      ]
     },
     "metadata": {
      "needs_background": "light"
     },
     "output_type": "display_data"
    },
    {
     "data": {
      "text/plain": [
       "(9.985887168209212, 0.9728474490189019, 0.0008669032494694411)"
      ]
     },
     "execution_count": 53,
     "metadata": {},
     "output_type": "execute_result"
    }
   ],
   "source": [
    "corr = get_corr(W, U, blocks=1)\n",
    "sem_corr = sem([get_corr(W, U, blocks=8, block=block) for block in range(8)])\n",
    "\n",
    "# Plot Pearson correlation coefficient as a function of boxcar width\n",
    "plt.figure()\n",
    "plt.rcParams.update({\n",
    "    'font.family': 'DejaVu Sans',   # Default font\n",
    "    #'font.family': 'Whitney Book', # Actual font used in the paper (needs to install font first)\n",
    "    'axes.unicode_minus': False\n",
    "})\n",
    "plt.errorbar(taus*dt_SI*1e12*dt, corrs, yerr=corr_sems, fmt='o')\n",
    "plt.hlines(corr, 0.01, 50, 'r', linestyles='--', label=r'R(0) = ' f'{corr:0.4}')\n",
    "plt.hlines(corr+sem_corr, 0.01, 50, 'r', linestyles=':', label=r'R(0) $\\pm$ 0.0006')\n",
    "plt.hlines(corr-sem_corr, 0.01, 50, 'r', linestyles=':')\n",
    "plt.hlines(0.944, 0.01, 50, 'k', linestyles='--')\n",
    "plt.text(8, 0.9475, r'R=0.944',fontsize=16)\n",
    "#plt.text(0.5, 0.05, r'Single component Lennard-Jones', transform=plt.gca().transAxes, fontsize=16, ha='center')\n",
    "plt.xscale('log')\n",
    "plt.text(0.03, 0.93, '(a)', transform=plt.gca().transAxes, fontsize=18)\n",
    "plt.ylim(0.93, 1)\n",
    "plt.xlim(1e-2, 50)\n",
    "plt.xticks(fontname=\"DejaVu Sans\",fontsize=16)\n",
    "plt.yticks(fontname=\"DejaVu Sans\",fontsize=16)\n",
    "plt.xlabel(r'Length of boxcar average, $\\tau$ (ps)',fontsize=20)\n",
    "plt.ylabel(r'$R_{\\bar U\\bar W}(\\tau)$',fontsize=20)\n",
    "plt.legend(frameon=False,fontsize=16)\n",
    "plt.savefig('lennard_jones_corr.pdf', bbox_inches='tight')\n",
    "plt.show()\n",
    "\n",
    "tmp = taus*dt_SI*1e12*dt\n",
    "sel=21\n",
    "tmp[sel], corrs[sel], corr_sems[sel]"
   ]
  },
  {
   "cell_type": "code",
   "execution_count": 30,
   "id": "e7bc9e574195a5df",
   "metadata": {
    "ExecuteTime": {
     "end_time": "2024-05-30T13:25:03.167298Z",
     "start_time": "2024-05-30T13:25:03.150646Z"
    }
   },
   "outputs": [
    {
     "name": "stdout",
     "output_type": "stream",
     "text": [
      "Relative change in gamma: 0.012 \n",
      "Error in relative change in gamma: 0.007 \n"
     ]
    }
   ],
   "source": [
    "## Gamma comparison with error estimates\n",
    "gamma_long = 4.982\n",
    "gamma_long_sem = 0.030\n",
    "gamma_short = 4.924\n",
    "gamma_short_sem = 0.013\n",
    "\n",
    "gamma_rel_change = (gamma_long - gamma_short) / gamma_short\n",
    "print(f'Relative change in gamma: {gamma_rel_change:.3f} ')\n",
    "\n",
    "gamma_rel_change_sem = np.sqrt(gamma_long_sem**2 + gamma_short_sem**2) / gamma_short\n",
    "print(f'Error in relative change in gamma: {gamma_rel_change_sem:.3f} ')"
   ]
  },
  {
   "cell_type": "code",
   "execution_count": null,
   "id": "dc64447f",
   "metadata": {},
   "outputs": [],
   "source": []
  }
 ],
 "metadata": {
  "kernelspec": {
   "display_name": "Python 3 (ipykernel)",
   "language": "python",
   "name": "python3"
  },
  "language_info": {
   "codemirror_mode": {
    "name": "ipython",
    "version": 3
   },
   "file_extension": ".py",
   "mimetype": "text/x-python",
   "name": "python",
   "nbconvert_exporter": "python",
   "pygments_lexer": "ipython3",
   "version": "3.9.12"
  }
 },
 "nbformat": 4,
 "nbformat_minor": 5
}
