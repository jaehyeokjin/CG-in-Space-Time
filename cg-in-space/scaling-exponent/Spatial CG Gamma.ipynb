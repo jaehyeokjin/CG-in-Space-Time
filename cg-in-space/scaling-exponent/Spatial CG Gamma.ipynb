{
 "cells": [
  {
   "cell_type": "markdown",
   "id": "988f62da",
   "metadata": {},
   "source": [
    "Input Data Setup (from 2PT simulation)"
   ]
  },
  {
   "cell_type": "code",
   "execution_count": 9,
   "id": "9134ff73",
   "metadata": {},
   "outputs": [],
   "source": [
    "import numpy as np\n",
    "import matplotlib.pyplot as plt\n",
    "\n",
    "# Data setup\n",
    "x = np.array([1.114981927, 1.068530447, 1.024623845, 0.983090201, 0.943771348, 0.906521602, 0.871206628])\n",
    "y = np.array([400, 420, 440, 460, 480, 500, 540, 600, 700])\n",
    "z=[[-8.350664696,       -8.251616561,   -8.134682129,   -8.108190173    ,-8.030653893   ,-8.205965039   ,-7.886118001,  -7.573268862,   -7.490164151],[-7.962327245     ,-7.72254808,   -7.795628442    ,-7.508881263,  -7.791187664,   -7.500747033    ,-7.421179995,  -7.024042341    ,-6.886246314],[-7.324310507    ,-7.220653445   ,-7.38531578    ,-7.115195377,  -7.038986929,   -6.806730391,   -6.933073652,   -6.624169523,   -6.301872096],[-6.880598523     ,-6.821895336   ,-6.776221263   ,-6.691949338   ,-6.42496596    ,-6.479540544,  -6.217916087,   -6.104434303,   -5.919259663],[-6.445156504,     -6.285672734,    -6.473408569,    -6.099274599 ,   -6.066442022,    -5.946512438,    -5.87453714,     -5.784456003,    -5.437574425],[-6.134463969 ,    -5.964078499  ,  -5.822309745    ,-5.641375444 ,   -5.747484208 ,   -5.617364952    ,-5.437892931  ,  -5.305080596    ,-5.032442189],[-5.898116274 ,    -5.566860978  ,  -5.466870847   , -5.256647248    ,-5.241172717   , -5.044642578  ,  -5.0571771      ,-4.930580562  ,  -4.523628984]]\n",
    "zz = np.transpose(z)\n",
    "x = np.log(x)\n",
    "y = np.log(y)"
   ]
  },
  {
   "cell_type": "markdown",
   "id": "cc61731c",
   "metadata": {},
   "source": [
    "Figure Setup"
   ]
  },
  {
   "cell_type": "code",
   "execution_count": 10,
   "id": "6aceda06",
   "metadata": {},
   "outputs": [
    {
     "data": {
      "image/png": "[encoded data removed]",
      "text/plain": [
       "<Figure size 432x288 with 2 Axes>"
      ]
     },
     "metadata": {
      "needs_background": "light"
     },
     "output_type": "display_data"
    }
   ],
   "source": [
    "plt.ion()\n",
    "plt.figure()\n",
    "plt.rcParams.update({\n",
    "    'font.size': 16,\n",
    "    'font.family': 'DejaVu Sans',   # Default font\n",
    "    #'font.family': 'Whitney Book', # Actual font used in the paper (needs to install font first)\n",
    "    'axes.labelsize': 16,\n",
    "    'axes.titlesize': 18,\n",
    "    'xtick.labelsize': 14,\n",
    "    'ytick.labelsize': 14,\n",
    "    'legend.fontsize': 14\n",
    "})\n",
    "plt.rcParams['axes.unicode_minus'] = False\n",
    "\n",
    "plt.ylim(6.295,6.55)\n",
    "ax = plt.gca()\n",
    "for spine in ax.spines.values():\n",
    "    spine.set_linewidth(2)  # Set the border width here\n",
    "cs = plt.contourf(x,y,zz,levels=20)\n",
    "cbar = plt.colorbar(cs)\n",
    "for spine in cbar.ax.spines.values():\n",
    "    spine.set_linewidth(2)\n",
    "#cbar.set_label('Value', fontsize=16)\n",
    "plt.savefig('excess.png', dpi=300, bbox_inches='tight')\n",
    "plt.savefig('excess.pdf', dpi=600, bbox_inches='tight')"
   ]
  },
  {
   "cell_type": "code",
   "execution_count": null,
   "id": "8edc3168",
   "metadata": {},
   "outputs": [],
   "source": []
  }
 ],
 "metadata": {
  "kernelspec": {
   "display_name": "Python 3 (ipykernel)",
   "language": "python",
   "name": "python3"
  },
  "language_info": {
   "codemirror_mode": {
    "name": "ipython",
    "version": 3
   },
   "file_extension": ".py",
   "mimetype": "text/x-python",
   "name": "python",
   "nbconvert_exporter": "python",
   "pygments_lexer": "ipython3",
   "version": "3.9.12"
  }
 },
 "nbformat": 4,
 "nbformat_minor": 5
}
